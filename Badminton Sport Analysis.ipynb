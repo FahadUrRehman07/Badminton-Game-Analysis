{
 "cells": [
  {
   "cell_type": "markdown",
   "metadata": {},
   "source": [
    "<div style=\"border-top: 5px solid #ff758c; border-bottom: 5px dashed #ff758c; border-left: 5px double #ff758c; border-right: 5px dotted #ff758c; color: #19a01a; border-radius: 10px; margin: 5px; padding: 5px; width: 95%; font-family: 'Amiri', serif;\">\n",
    "    <h1 style=\"font-size: 45px; text-align: center; line-height: 1.5;\">˚ ༘ ೀ⋆.˚\n",
    "        <span style=\"color: #0a8a65; font-weight: 700;\">B</span><span style=\"color: #f03434; font-weight: 700;\">e</span><span style=\"color: #3498db; font-weight: 900;\">d</span><span style=\"color: #e74c3c; font-weight: 700;\">m</span><span style=\"color: #9b59b6; font-weight: 700;\">i</span><span style=\"color: #1abc9c; font-weight: 700;\">n</span><span style=\"color: #f1c40f; font-weight: 700;\">t</span><span style=\"color: #e67e22; font-weight: 700;\">o</span><span style=\"color: #34495e; font-weight: 700;\">n</span>\n",
    "        <span style=\"color: #d35400; font-weight: 700;\">P</span><span style=\"color: #2ecc71; font-weight: 700;\">r</span><span style=\"color: #e74c3c; font-weight: 700;\">e</span><span style=\"color: #f1c40f; font-weight: 900;\">d</span><span style=\"color: #8e44ad; font-weight: 700;\">i</span><span style=\"color: #c0392b; font-weight: 700;\">c</span><span style=\"color: #f39c12; font-weight: 700;\">t</span><span style=\"color: #3498db; font-weight: 700;\">i</span><span style=\"color: #f1c40f; font-weight: 700;\">o</span><span style=\"color: #f1c40f; font-weight: 700;\">n</span>˚ ༘ ೀ⋆.˚\n",
    "    </h1>\n",
    "</div>\n"
   ]
  },
  {
   "cell_type": "markdown",
   "metadata": {},
   "source": [
    "<div class=\"styled-heading\">\n",
    "    <h1>\n",
    "        🔍📚💡<span style=\"color: #ffffff;\">I</span><span style=\"color: #f9f9f9;\">M</span><span style=\"color: #ececec; font-weight: 900;\">P</span><span style=\"color: #dfdfdf;\">O</span><span style=\"color: #d2d2d2;\">R</span><span style=\"color: #c5c5c5;\">T</span><span style=\"color: #b8b8b8;\">I</span><span style=\"color: #ababab;\">N</span><span style=\"color: #9e9e9e;\">G</span>\n",
    "        <span style=\"color: #848484;\">L</span><span style=\"color: #777777;\">I</span><span style=\"color: #6a6a6a; font-weight: 900;\">B</span><span style=\"color: #5d5d5d;\">R</span><span style=\"color: #505050;\">A</span><span style=\"color: #434343;\">R</span><span style=\"color: #363636;\">I</span><span style=\"color: #292929;\">E</span><span style=\"color: #1c1c1c;\">S</span>\n",
    "    </h1>\n",
    "</div>\n"
   ]
  },
  {
   "cell_type": "code",
   "execution_count": 1,
   "metadata": {},
   "outputs": [],
   "source": [
    "import pandas as pd\n",
    "import numpy as np\n",
    "\n",
    "import matplotlib.pyplot as plt # for visualization\n",
    "import seaborn as sns # for Visualization\n",
    "\n",
    "from itertools import combinations # For visualization columns combination.\n",
    "\n",
    "# For Chi Square test\n",
    "from scipy.stats import chi2_contingency\n",
    "\n",
    "# For spliting the dataset into Training and testing.\n",
    "from sklearn.model_selection import train_test_split\n",
    "\n",
    "# Naive Bayes ALgorithm\n",
    "from sklearn.naive_bayes import BernoulliNB\n",
    "\n",
    "# For Model Evaluation\n",
    "from sklearn.metrics import accuracy_score, precision_score, recall_score, f1_score, confusion_matrix\n",
    "\n",
    "from warnings import filterwarnings\n",
    "filterwarnings('ignore')\n",
    "\n",
    "# For Scaling and normalization\n",
    "from sklearn.preprocessing import MinMaxScaler\n",
    "from sklearn.preprocessing import StandardScaler\n",
    "from sklearn.preprocessing import Normalizer"
   ]
  },
  {
   "cell_type": "markdown",
   "metadata": {},
   "source": [
    "<div class=\"styled-heading\">\n",
    "        <h1>\n",
    "            📊💾📊<span style=\"color: #ffffff;\">L</span><span style=\"color: #f9f9f9;\">O</span><span style=\"color: #ececec; font-weight: 900;\">A</span><span style=\"color: #dfdfdf;\">D</span><span style=\"color: #d2d2d2;\">I</span><span style=\"color: #c5c5c5;\">N</span><span style=\"color: #b8b8b8;\">G</span>\n",
    "            <span style=\"color: #ababab;\">D</span><span style=\"color: #9e9e9e;\">A</span><span style=\"color: #919191;\">T</span><span style=\"color: #848484;\">A</span><span style=\"color: #777777;\">S</span><span style=\"color: #6a6a6a; font-weight: 900;\">E</span><span style=\"color: #5d5d5d;\">T</span>📊💾📊\n",
    "        </h1>\n",
    "    </div>\n"
   ]
  },
  {
   "cell_type": "code",
   "execution_count": 2,
   "metadata": {},
   "outputs": [],
   "source": [
    "df = pd.read_csv(\"badminton_dataset.csv\")"
   ]
  },
  {
   "cell_type": "markdown",
   "metadata": {},
   "source": [
    "<div class=\"styled-heading\">\n",
    "        <h1>\n",
    "            📈🔎📉<span style=\"color: #ffffff;\">T</span><span style=\"color: #f9f9f9;\">a</span><span style=\"color: #ececec; font-weight: 900;\">s</span><span style=\"color: #dfdfdf;\">k</span>\n",
    "            <span style=\"color: #d2d2d2;\">1</span>: \n",
    "            <span style=\"color: #c5c5c5;\">E</span><span style=\"color: #b8b8b8;\">x</span><span style=\"color: #ababab;\">p</span><span style=\"color: #9e9e9e;\">l</span><span style=\"color: #919191;\">o</span><span style=\"color: #848484;\">r</span><span style=\"color: #777777;\">a</span><span style=\"color: #6a6a6a; font-weight: 900;\">t</span><span style=\"color: #5d5d5d;\">o</span><span style=\"color: #505050;\">r</span><span style=\"color: #434343;\">y</span>\n",
    "            <span style=\"color: #363636;\">D</span><span style=\"color: #292929;\">a</span><span style=\"color: #1c1c1c;\">t</span><span style=\"color: #0f0f0f;\">a</span>\n",
    "            <span style=\"color: #ffffff;\">A</span><span style=\"color: #f9f9f9;\">n</span><span style=\"color: #ececec; font-weight: 900;\">a</span><span style=\"color: #dfdfdf;\">l</span><span style=\"color: #d2d2d2;\">y</span><span style=\"color: #c5c5c5;\">s</span><span style=\"color: #b8b8b8; font-weight: 900;\">i</span><span style=\"color: #ababab; font-weight: 900;\">s</span>📈🔎📉\n",
    "        </h1>\n",
    "    </div>\n"
   ]
  },
  {
   "cell_type": "markdown",
   "metadata": {},
   "source": [
    "### `Displaying few rows of dataset`\n"
   ]
  },
  {
   "cell_type": "code",
   "execution_count": 3,
   "metadata": {},
   "outputs": [
    {
     "data": {
      "text/html": [
       "<div>\n",
       "<style scoped>\n",
       "    .dataframe tbody tr th:only-of-type {\n",
       "        vertical-align: middle;\n",
       "    }\n",
       "\n",
       "    .dataframe tbody tr th {\n",
       "        vertical-align: top;\n",
       "    }\n",
       "\n",
       "    .dataframe thead th {\n",
       "        text-align: right;\n",
       "    }\n",
       "</style>\n",
       "<table border=\"1\" class=\"dataframe\">\n",
       "  <thead>\n",
       "    <tr style=\"text-align: right;\">\n",
       "      <th></th>\n",
       "      <th>Outlook</th>\n",
       "      <th>Temperature</th>\n",
       "      <th>Humidity</th>\n",
       "      <th>Wind</th>\n",
       "      <th>Play_Badminton</th>\n",
       "    </tr>\n",
       "  </thead>\n",
       "  <tbody>\n",
       "    <tr>\n",
       "      <th>0</th>\n",
       "      <td>Overcast</td>\n",
       "      <td>Cool</td>\n",
       "      <td>High</td>\n",
       "      <td>Weak</td>\n",
       "      <td>Yes</td>\n",
       "    </tr>\n",
       "    <tr>\n",
       "      <th>1</th>\n",
       "      <td>Sunny</td>\n",
       "      <td>Mild</td>\n",
       "      <td>Normal</td>\n",
       "      <td>Strong</td>\n",
       "      <td>No</td>\n",
       "    </tr>\n",
       "    <tr>\n",
       "      <th>2</th>\n",
       "      <td>Rain</td>\n",
       "      <td>Mild</td>\n",
       "      <td>Normal</td>\n",
       "      <td>Strong</td>\n",
       "      <td>No</td>\n",
       "    </tr>\n",
       "    <tr>\n",
       "      <th>3</th>\n",
       "      <td>Sunny</td>\n",
       "      <td>Cool</td>\n",
       "      <td>High</td>\n",
       "      <td>Weak</td>\n",
       "      <td>Yes</td>\n",
       "    </tr>\n",
       "    <tr>\n",
       "      <th>4</th>\n",
       "      <td>Sunny</td>\n",
       "      <td>Cool</td>\n",
       "      <td>High</td>\n",
       "      <td>Strong</td>\n",
       "      <td>No</td>\n",
       "    </tr>\n",
       "    <tr>\n",
       "      <th>5</th>\n",
       "      <td>Sunny</td>\n",
       "      <td>Mild</td>\n",
       "      <td>High</td>\n",
       "      <td>Strong</td>\n",
       "      <td>No</td>\n",
       "    </tr>\n",
       "    <tr>\n",
       "      <th>6</th>\n",
       "      <td>Rain</td>\n",
       "      <td>Cool</td>\n",
       "      <td>Normal</td>\n",
       "      <td>Strong</td>\n",
       "      <td>No</td>\n",
       "    </tr>\n",
       "  </tbody>\n",
       "</table>\n",
       "</div>"
      ],
      "text/plain": [
       "    Outlook Temperature Humidity    Wind Play_Badminton\n",
       "0  Overcast        Cool     High    Weak            Yes\n",
       "1     Sunny        Mild   Normal  Strong             No\n",
       "2      Rain        Mild   Normal  Strong             No\n",
       "3     Sunny        Cool     High    Weak            Yes\n",
       "4     Sunny        Cool     High  Strong             No\n",
       "5     Sunny        Mild     High  Strong             No\n",
       "6      Rain        Cool   Normal  Strong             No"
      ]
     },
     "execution_count": 3,
     "metadata": {},
     "output_type": "execute_result"
    }
   ],
   "source": [
    "df.head(7)"
   ]
  },
  {
   "cell_type": "markdown",
   "metadata": {},
   "source": [
    "### `Columns in Dataset`\n"
   ]
  },
  {
   "cell_type": "code",
   "execution_count": 4,
   "metadata": {},
   "outputs": [
    {
     "data": {
      "text/plain": [
       "Index(['Outlook', 'Temperature', 'Humidity', 'Wind', 'Play_Badminton'], dtype='object')"
      ]
     },
     "execution_count": 4,
     "metadata": {},
     "output_type": "execute_result"
    }
   ],
   "source": [
    "df.columns"
   ]
  },
  {
   "cell_type": "markdown",
   "metadata": {},
   "source": [
    "### `what types of data do they contain (e.g., numerical, categorical)?`\n"
   ]
  },
  {
   "cell_type": "code",
   "execution_count": 5,
   "metadata": {},
   "outputs": [
    {
     "data": {
      "text/plain": [
       "Outlook           object\n",
       "Temperature       object\n",
       "Humidity          object\n",
       "Wind              object\n",
       "Play_Badminton    object\n",
       "dtype: object"
      ]
     },
     "execution_count": 5,
     "metadata": {},
     "output_type": "execute_result"
    }
   ],
   "source": [
    "df.dtypes"
   ]
  },
  {
   "cell_type": "markdown",
   "metadata": {},
   "source": [
    "> ### Is the dataset has the five columns and their datatype is object so the types of data that dataset contains are all categorical columns.\n"
   ]
  },
  {
   "cell_type": "markdown",
   "metadata": {},
   "source": [
    "### 2. `Provide a summary of the dataset, including the number of rows, columns, and basic statistics (mean, median, standard deviation, etc.) for numerical columns.`\n",
    "\n",
    "This task can be achive by a simple method of pandas dataframe which is .describe but we have include the object datatype parameter or whatever it is because our dataset has categorical columns\n"
   ]
  },
  {
   "cell_type": "code",
   "execution_count": 6,
   "metadata": {},
   "outputs": [
    {
     "name": "stdout",
     "output_type": "stream",
     "text": [
      "Number of rows: 36\n",
      "Number of columns: 5\n",
      "         Outlook Temperature Humidity  Wind Play_Badminton\n",
      "count         36          36       36    36             36\n",
      "unique         3           3        2     2              2\n",
      "top     Overcast        Cool     High  Weak             No\n",
      "freq          12          12       18    18             24\n"
     ]
    }
   ],
   "source": [
    "# Getting the number of rows and columns\n",
    "num_rows, num_columns = df.shape\n",
    "print(f'Number of rows: {num_rows}')\n",
    "print(f'Number of columns: {num_columns}')\n",
    "\n",
    "''' As the dataset has the categorical columns so let include the object datatype for summary statistic'''\n",
    "summary = df.describe(include='object')\n",
    "print(summary)\n"
   ]
  },
  {
   "cell_type": "markdown",
   "metadata": {},
   "source": [
    "> ##### The data has info about the weather and if people can play badminton. The dataset comprises 36 rows and 5 columns. The above output shows details include things like outlook (like sunny or rainy), temperature (like hot or cold), humidity (how damp it is), and wind strength. Most days are cloudy, the temperature is usually cool, and it's often humid. Weak winds are common. People usually don't play badminton, with 24 \"No\" and 12 \"Yes\" answers.\n",
    "\n",
    "> ##### Notably, badminton is rarely played, with 24 occurrences of \"No\" compared to 12 \"Yes\" instances.\n"
   ]
  },
  {
   "cell_type": "markdown",
   "metadata": {},
   "source": [
    "> ### `Let's delve  deeper into the distribution of each categorical variable, by using the value_counts method:`\n"
   ]
  },
  {
   "cell_type": "code",
   "execution_count": 7,
   "metadata": {},
   "outputs": [
    {
     "name": "stdout",
     "output_type": "stream",
     "text": [
      "\n",
      "Value counts for Outlook:\n",
      "Outlook\n",
      "Overcast    12\n",
      "Sunny       12\n",
      "Rain        12\n",
      "Name: count, dtype: int64\n",
      "\n",
      "Value counts for Temperature:\n",
      "Temperature\n",
      "Cool    12\n",
      "Mild    12\n",
      "Hot     12\n",
      "Name: count, dtype: int64\n",
      "\n",
      "Value counts for Humidity:\n",
      "Humidity\n",
      "High      18\n",
      "Normal    18\n",
      "Name: count, dtype: int64\n",
      "\n",
      "Value counts for Wind:\n",
      "Wind\n",
      "Weak      18\n",
      "Strong    18\n",
      "Name: count, dtype: int64\n",
      "\n",
      "Value counts for Play_Badminton:\n",
      "Play_Badminton\n",
      "No     24\n",
      "Yes    12\n",
      "Name: count, dtype: int64\n"
     ]
    }
   ],
   "source": [
    "for column in df.select_dtypes(include=['object']).columns:\n",
    "    print(f'\\nValue counts for {column}:')\n",
    "    print(df[column].value_counts())\n"
   ]
  },
  {
   "cell_type": "markdown",
   "metadata": {},
   "source": [
    "> ##### By analysing the above ouptut the dataset includes categorical variables such as Outlook, Temperature, Humidity, Wind, and Play_Badminton, each with balanced distributions. Outlook has 12 instances each of Overcast, Sunny, and Rain. Temperature is split evenly among Cool, Mild, and Hot, each with 12 occurrences. Humidity and Wind both have equal counts for their categories: 18 instances each of High and Normal humidity, and 18 instances each of Weak and Strong wind. The Play_Badminton outcome shows 24 'No' and 12 'Yes'.\n"
   ]
  },
  {
   "cell_type": "markdown",
   "metadata": {},
   "source": [
    "<div class=\"styled-heading\">\n",
    "        <h1>\n",
    "            🧹🔧🧹<span style=\"color: #ffffff;\">T</span><span style=\"color: #f9f9f9;\">a</span><span style=\"color: #ececec; font-weight: 900;\">s</span><span style=\"color: #dfdfdf;\">k</span>\n",
    "            <span style=\"color: #d2d2d2;\">2</span>: \n",
    "            <span style=\"color: #c5c5c5;\">D</span><span style=\"color: #b8b8b8;\">a</span><span style=\"color: #ababab;\">t</span><span style=\"color: #9e9e9e;\">a</span>\n",
    "            <span style=\"color: #919191;\">C</span><span style=\"color: #848484;\">l</span><span style=\"color: #777777;\">e</span><span style=\"color: #6a6a6a; font-weight: 900;\">a</span><span style=\"color: #5d5d5d;\">n</span><span style=\"color: #505050;\">i</span><span style=\"color: #434343;\">n</span><span style=\"color: #363636;\">g</span>\n",
    "            <span style=\"color: #292929;\">a</span><span style=\"color: #1c1c1c;\">n</span><span style=\"color: #0f0f0f;\">d</span>\n",
    "            <span style=\"color: #ffffff;\">P</span><span style=\"color: #f9f9f9;\">r</span><span style=\"color: #ececec; font-weight: 900;\">e</span><span style=\"color: #dfdfdf;\">p</span><span style=\"color: #d2d2d2;\">r</span><span style=\"color: #c5c5c5;\">o</span><span style=\"color: #b8b8b8;\">c</span><span style=\"color: #ababab; font-weight: 900;\">e</span><span style=\"color: #9e9e9e; font-weight: 900;\">s</span><span style=\"color: #919191; font-weight: 900;\">s</span><span style=\"color: #848484; font-weight: 900;\">i</span><span style=\"color: #777777; font-weight: 900;\">n</span><span style=\"color: #6a6a6a; font-weight: 900;\">g</span>🧹🔧🧹\n",
    "        </h1>\n",
    "    </div>\n"
   ]
  },
  {
   "cell_type": "markdown",
   "metadata": {},
   "source": [
    "### `1.\tCheck for missing values in the dataset. Which columns have missing values, and what is the proportion of missing data in each column?`\n"
   ]
  },
  {
   "cell_type": "code",
   "execution_count": 8,
   "metadata": {},
   "outputs": [
    {
     "data": {
      "text/plain": [
       "Outlook           0\n",
       "Temperature       0\n",
       "Humidity          0\n",
       "Wind              0\n",
       "Play_Badminton    0\n",
       "dtype: int64"
      ]
     },
     "execution_count": 8,
     "metadata": {},
     "output_type": "execute_result"
    }
   ],
   "source": [
    "df.isnull().sum()"
   ]
  },
  {
   "cell_type": "markdown",
   "metadata": {},
   "source": [
    "> #### The dataset has no missing values it means that the dataset is complete, without any gaps in the recorded information.\n"
   ]
  },
  {
   "cell_type": "markdown",
   "metadata": {},
   "source": [
    "### `2.\t Describe the methods you used to handle missing data. Did you choose to remove, impute, or use another method for dealing with missing values? Justify your choice.- `\n",
    "\n",
    "> ### `Answer:`\n",
    ">\n",
    "> I utilized the \"isnull().sum()\" method to check for missing data in the DataFrame. Since the output indicated zero missing values for all columns, I did not need to employ any methods for handling missing data. There was no need for removal, imputation, or any other method, as the dataset was complete without any gaps in the recorded information.\n"
   ]
  },
  {
   "cell_type": "markdown",
   "metadata": {},
   "source": [
    "## `Handling Outliers:`\n"
   ]
  },
  {
   "cell_type": "markdown",
   "metadata": {},
   "source": [
    "### `3. Identify any outliers in the numerical columns. How did you detect them, and what method did you use to handle them?`\n"
   ]
  },
  {
   "cell_type": "markdown",
   "metadata": {},
   "source": [
    "We have already checked that\n"
   ]
  },
  {
   "cell_type": "code",
   "execution_count": 9,
   "metadata": {},
   "outputs": [
    {
     "name": "stdout",
     "output_type": "stream",
     "text": [
      "<class 'pandas.core.frame.DataFrame'>\n",
      "RangeIndex: 36 entries, 0 to 35\n",
      "Data columns (total 5 columns):\n",
      " #   Column          Non-Null Count  Dtype \n",
      "---  ------          --------------  ----- \n",
      " 0   Outlook         36 non-null     object\n",
      " 1   Temperature     36 non-null     object\n",
      " 2   Humidity        36 non-null     object\n",
      " 3   Wind            36 non-null     object\n",
      " 4   Play_Badminton  36 non-null     object\n",
      "dtypes: object(5)\n",
      "memory usage: 1.5+ KB\n"
     ]
    }
   ],
   "source": [
    "df.info()"
   ]
  },
  {
   "cell_type": "markdown",
   "metadata": {},
   "source": [
    "> #### The output shows that all columns are of type 'object', indicating that they contain categorical data rather than numerical data. Therefore, traditional methods for detecting outliers in numerical columns, such as calculating quartiles and identifying values outside a certain range, are not applicable in this case.\n"
   ]
  },
  {
   "cell_type": "markdown",
   "metadata": {},
   "source": [
    "<div class=\"styled-heading\">\n",
    "        <h1>\n",
    "            📈📊🔍<span style=\"color: #ffffff;\">T</span><span style=\"color: #f9f9f9;\">a</span><span style=\"color: #ececec; font-weight: 900;\">s</span><span style=\"color: #dfdfdf;\">k</span>\n",
    "            <span style=\"color: #d2d2d2;\">3</span>: \n",
    "            <span style=\"color: #c5c5c5;\">D</span><span style=\"color: #b8b8b8;\">a</span><span style=\"color: #ababab;\">t</span><span style=\"color: #9e9e9e;\">a</span>\n",
    "            <span style=\"color: #919191;\">V</span><span style=\"color: #848484;\">i</span><span style=\"color: #777777;\">s</span><span style=\"color: #6a6a6a; font-weight: 900;\">u</span><span style=\"color: #5d5d5d;\">a</span><span style=\"color: #505050;\">l</span><span style=\"color: #434343;\">i</span><span style=\"color: #363636;\">z</span><span style=\"color: #292929;\">a</span><span style=\"color: #1c1c1c;\">t</span><span style=\"color: #0f0f0f;\">i</span><span style=\"color: #ffffff;\">o</span><span style=\"color: #f9f9f9;\">n</span>📈📊🔍\n",
    "        </h1>\n",
    "    </div>\n",
    "\n",
    "1. Use bar plots or pie charts to visualize the distribution of categorical variables.\n",
    "2. Explore relationships between variables using scatter plots, or heatmaps. Discuss any interesting patterns or correlations you observe.\n"
   ]
  },
  {
   "cell_type": "markdown",
   "metadata": {},
   "source": [
    "### `Making a function for Using Bar plots to visualize the distribution of categorical variables`\n"
   ]
  },
  {
   "cell_type": "code",
   "execution_count": 10,
   "metadata": {},
   "outputs": [],
   "source": [
    "def plot_categorical_distribution(df, columns, colors=None, background_color=None, foreground_color=None):\n",
    "    if background_color:\n",
    "        plt.rcParams['figure.facecolor'] = background_color\n",
    "    if foreground_color:\n",
    "        plt.rcParams['axes.labelcolor'] = foreground_color\n",
    "        plt.rcParams['axes.edgecolor'] = foreground_color\n",
    "        plt.rcParams['xtick.color'] = foreground_color\n",
    "        plt.rcParams['ytick.color'] = foreground_color\n",
    "\n",
    "    for col in columns:\n",
    "        if col in df.columns:\n",
    "            color = colors[col] if colors and col in colors else None\n",
    "\n",
    "            df[col].value_counts().plot(kind='bar', color=color)\n",
    "            plt.title(f'Distribution of {col}')\n",
    "            plt.xlabel(col)\n",
    "            plt.ylabel('Frequency')\n",
    "            plt.show()\n",
    "        else:\n",
    "            print(f\"Column '{col}' not found in the DataFrame.\")\n",
    "\n",
    "\n",
    "custom_colors = {\n",
    "    'Outlook': 'lightblue',\n",
    "    'Temperature': 'lightgreen',\n",
    "    'Humidity': 'lightsalmon',\n",
    "    'Wind': 'lightcoral',\n",
    "    'Play_Badminton': 'lightgray'\n",
    "}\n"
   ]
  },
  {
   "cell_type": "markdown",
   "metadata": {},
   "source": [
    "##### `Now let's Viusalize the columns one by one.`\n"
   ]
  },
  {
   "cell_type": "markdown",
   "metadata": {},
   "source": [
    "We can make a list of columns and apply function on it but will be hard get insight from all visualize at the same time.\n"
   ]
  },
  {
   "cell_type": "markdown",
   "metadata": {},
   "source": [
    "### `OUTLOOK COLUMN VISUALIZATION:`\n"
   ]
  },
  {
   "cell_type": "code",
   "execution_count": 11,
   "metadata": {},
   "outputs": [
    {
     "data": {
      "image/png": "[encoded data removed]",
      "text/plain": [
       "<Figure size 640x480 with 1 Axes>"
      ]
     },
     "metadata": {},
     "output_type": "display_data"
    }
   ],
   "source": [
    "plot_categorical_distribution(df, ['Outlook'], colors=custom_colors, background_color='#FFEFD5', foreground_color='black')"
   ]
  },
  {
   "cell_type": "markdown",
   "metadata": {},
   "source": [
    "> ### `The insights from plot are:`\n",
    ">\n",
    "> the column `Outlook` represents three groups of data which are `Overcast`, `Sunny` and `Rain`. The column groups are equally frequancy distributed. the highest frequancy is `12`, which is same for every group of the column.\n"
   ]
  },
  {
   "cell_type": "markdown",
   "metadata": {},
   "source": [
    "### `TEMPERATURE COLUMN VISUALIZATION:`\n"
   ]
  },
  {
   "cell_type": "code",
   "execution_count": 12,
   "metadata": {},
   "outputs": [
    {
     "data": {
      "image/png": "[encoded data removed]",
      "text/plain": [
       "<Figure size 640x480 with 1 Axes>"
      ]
     },
     "metadata": {},
     "output_type": "display_data"
    }
   ],
   "source": [
    "plot_categorical_distribution(df, ['Temperature'], colors=custom_colors, background_color='#FFEFD5', foreground_color='black')"
   ]
  },
  {
   "cell_type": "markdown",
   "metadata": {},
   "source": [
    "> ### `The insights from plot are:`\n",
    ">\n",
    "> The column `Temperature` represents three groups of data which are `COOL`, `MILD` and `HOT`. The column groups are equally frequancy distributed. the highest frequancy is `12`, which is same for every group of the column.\n"
   ]
  },
  {
   "cell_type": "markdown",
   "metadata": {},
   "source": [
    "### `HUMIDITY COLUMN VISUALIZATION:`\n"
   ]
  },
  {
   "cell_type": "code",
   "execution_count": 13,
   "metadata": {},
   "outputs": [
    {
     "data": {
      "image/png": "[encoded data removed]",
      "text/plain": [
       "<Figure size 640x480 with 1 Axes>"
      ]
     },
     "metadata": {},
     "output_type": "display_data"
    }
   ],
   "source": [
    "plot_categorical_distribution(df, ['Humidity'], colors=custom_colors, background_color='#FFEFD5', foreground_color='black')"
   ]
  },
  {
   "cell_type": "markdown",
   "metadata": {},
   "source": [
    "> ### `The insights from plot are:`\n",
    ">\n",
    "> The column `Humidity` represents two groups of data which are `High` and `Normal`. The column groups are equally frequancy distributed. the highest frequancy is `18`, which is same for both groups of the column.\n"
   ]
  },
  {
   "cell_type": "markdown",
   "metadata": {},
   "source": [
    "### `WIND COLUMN VISUALIZATION:`\n"
   ]
  },
  {
   "cell_type": "code",
   "execution_count": 14,
   "metadata": {},
   "outputs": [
    {
     "data": {
      "image/png": "[encoded data removed]",
      "text/plain": [
       "<Figure size 640x480 with 1 Axes>"
      ]
     },
     "metadata": {},
     "output_type": "display_data"
    }
   ],
   "source": [
    "plot_categorical_distribution(df, ['Wind'], colors=custom_colors, background_color='#FFEFD5', foreground_color='black')"
   ]
  },
  {
   "cell_type": "markdown",
   "metadata": {},
   "source": [
    "> ### `The insights from plot are:`\n",
    ">\n",
    "> The column `WIND` represents two groups of data which are `Weak` and `Strong`. The column groups are equally frequancy distributed. the highest frequancy is `18`, which is same for both groups of the column.\n"
   ]
  },
  {
   "cell_type": "markdown",
   "metadata": {},
   "source": [
    "### `PLAY_BADMINTON COLUMN VISUALIZATION:`\n"
   ]
  },
  {
   "cell_type": "code",
   "execution_count": 15,
   "metadata": {},
   "outputs": [
    {
     "data": {
      "image/png": "[encoded data removed]",
      "text/plain": [
       "<Figure size 640x480 with 1 Axes>"
      ]
     },
     "metadata": {},
     "output_type": "display_data"
    }
   ],
   "source": [
    "plot_categorical_distribution(df, ['Play_Badminton'], colors=custom_colors, background_color='#FFEFD5', foreground_color='black')"
   ]
  },
  {
   "cell_type": "markdown",
   "metadata": {},
   "source": [
    "\n",
    "> ### `The insights from plot are:`\n",
    ">\n",
    "> The column `Play Badminton` represents two groups of data which are `No` and `Yes`. The column groups are not equally distributed. the no group of the column has the highest frequancy which is `24` , and the `yes` group of data frequancy is `13`. which reveal a shocking insight,\n",
    "\n",
    "> ### `Shocking Insight`\n",
    ">\n",
    "> The visualization reveals that the nowadays due to `weather inconsistency` people `don't play badmintom` and we have to `analysis the weather condition` that on which conditions the people `avoid to play badminton`.\n"
   ]
  },
  {
   "cell_type": "markdown",
   "metadata": {},
   "source": [
    "### `Let's check the dependencies of columns over play Badminton column`\n"
   ]
  },
  {
   "cell_type": "code",
   "execution_count": 16,
   "metadata": {},
   "outputs": [
    {
     "name": "stdout",
     "output_type": "stream",
     "text": [
      "Chi-square test for independence between Outlook and 'Play_Badminton':\n",
      "Chi2 value: 9.0, p-value: 0.011108996538242308\n",
      "The variable Outlook is likely not independent of 'Play_Badminton'.\n",
      "\n",
      "Chi-square test for independence between Temperature and 'Play_Badminton':\n",
      "Chi2 value: 0.0, p-value: 1.0\n",
      "The variable Temperature is likely independent of 'Play_Badminton'.\n",
      "\n",
      "Chi-square test for independence between Humidity and 'Play_Badminton':\n",
      "Chi2 value: 0.0, p-value: 1.0\n",
      "The variable Humidity is likely independent of 'Play_Badminton'.\n",
      "\n",
      "Chi-square test for independence between Wind and 'Play_Badminton':\n",
      "Chi2 value: 15.125, p-value: 0.00010062192211963679\n",
      "The variable Wind is likely not independent of 'Play_Badminton'.\n",
      "\n"
     ]
    }
   ],
   "source": [
    "for column in df.columns[:-1]:  # Exclude the target variable 'Play_Badminton'\n",
    "    contingency_table = pd.crosstab(df['Play_Badminton'], df[column])\n",
    "    chi2, p, _, _ = chi2_contingency(contingency_table)\n",
    "    print(f\"Chi-square test for independence between {column} and 'Play_Badminton':\")\n",
    "    print(f\"Chi2 value: {chi2}, p-value: {p}\")\n",
    "    if p < 0.05: \n",
    "        print(f\"The variable {column} is likely not independent of 'Play_Badminton'.\")\n",
    "    else:\n",
    "        print(f\"The variable {column} is likely independent of 'Play_Badminton'.\")\n",
    "    print()"
   ]
  },
  {
   "cell_type": "markdown",
   "metadata": {},
   "source": [
    "> #### `The weather has the dependencies on playing badminton`\n"
   ]
  },
  {
   "cell_type": "markdown",
   "metadata": {},
   "source": [
    "# `Let's Find relations between columns`\n"
   ]
  },
  {
   "cell_type": "code",
   "execution_count": 17,
   "metadata": {},
   "outputs": [
    {
     "data": {
      "image/png": "[encoded data removed]",
      "text/plain": [
       "<Figure size 600x400 with 2 Axes>"
      ]
     },
     "metadata": {},
     "output_type": "display_data"
    }
   ],
   "source": [
    "def plot_categorical_relationships(df, columns):\n",
    "    for col1, col2 in combinations(columns, 2):\n",
    "        if col1 in df.columns and col2 in df.columns:\n",
    "            plt.figure(figsize=(6, 4))\n",
    "            crosstab = pd.crosstab(df[col1], df[col2], normalize='index') * 100  # Normalize to get percentages\n",
    "            sns.heatmap(crosstab, annot=True, cmap='coolwarm', fmt='.2f')  # Format to display two decimal places\n",
    "            plt.title(f'Heatmap of {col1} vs {col2}')\n",
    "            plt.xlabel(col2)\n",
    "            plt.ylabel(col1)\n",
    "            plt.show()\n",
    "        else:\n",
    "            print(f\"One of the columns '{col1}' or '{col2}' not found in the DataFrame.\")\n",
    "\n",
    "columns_to_plot = ['Outlook', 'Play_Badminton']\n",
    "plot_categorical_relationships(df, columns_to_plot)\n",
    "\n"
   ]
  },
  {
   "cell_type": "markdown",
   "metadata": {},
   "source": [
    "> ### `The insights from plot are:`\n",
    ">\n",
    "> `The column Outlook seems to have a relationship with the badminton playing, the plot shows that:\n",
    ">\n",
    "> 1. when it's `overcast` then there is `50%`chances of playing bedminton and `50%` chances of not playing bedminton.\n",
    "> 2. When It's `Raining` then there is`0%` chances of plying bedminton and `100%` chances of not playing bedminton.\n",
    "> 3. When it's `Sunny` then there is `50%` chances of `both` playing and not playing bedminton.\n"
   ]
  },
  {
   "cell_type": "code",
   "execution_count": 18,
   "metadata": {},
   "outputs": [
    {
     "data": {
      "image/png": "[encoded data removed]",
      "text/plain": [
       "<Figure size 600x400 with 2 Axes>"
      ]
     },
     "metadata": {},
     "output_type": "display_data"
    }
   ],
   "source": [
    "columns_to_plot = ['Temperature', 'Play_Badminton']\n",
    "\n",
    "plot_categorical_relationships(df, columns_to_plot)"
   ]
  },
  {
   "cell_type": "markdown",
   "metadata": {},
   "source": [
    "> ### `The insights from plot are:`\n",
    ">\n",
    "> The column `Temperature` seems to have a relationship with the badminton playing column, the plot shows that:\n",
    ">\n",
    "> 1. when it's `Cool` then there is `66.67%` chances of not playing bedminton and `33.33%` chances of playing bedminton.\n",
    "> 2. When It's `Hot` then there is `66.67%` chances of not plying bedminton and `33.33%` chances of playing bedminton.\n",
    "> 3. When It's `Mild` then there is `66.67%` chances of not plying bedminton and `33.33%` chances of playing bedminton.\n"
   ]
  },
  {
   "cell_type": "code",
   "execution_count": 19,
   "metadata": {},
   "outputs": [
    {
     "data": {
      "image/png": "[encoded data removed]",
      "text/plain": [
       "<Figure size 600x400 with 2 Axes>"
      ]
     },
     "metadata": {},
     "output_type": "display_data"
    }
   ],
   "source": [
    "# List of columns to plot\n",
    "columns_to_plot = ['Humidity', 'Play_Badminton']\n",
    "\n",
    "plot_categorical_relationships(df, columns_to_plot)"
   ]
  },
  {
   "cell_type": "markdown",
   "metadata": {},
   "source": [
    "> ### `The insights from plot are:`\n",
    ">\n",
    "> The column `Humidity` seems to have a relationship with the badminton playing column, the plot shows that:\n",
    ">\n",
    "> 1. when it's `HIGH` then there is `66.67%` chances of not playing bedminton and `33.33%` chances of playing bedminton.\n",
    "> 2. When It's `NORMAL` then there is `66.67%` chances of not plying bedminton and `33.33%` chances of playing bedminton.\n"
   ]
  },
  {
   "cell_type": "code",
   "execution_count": 20,
   "metadata": {},
   "outputs": [
    {
     "data": {
      "image/png": "[encoded data removed]",
      "text/plain": [
       "<Figure size 600x400 with 2 Axes>"
      ]
     },
     "metadata": {},
     "output_type": "display_data"
    }
   ],
   "source": [
    "# List of columns to plot\n",
    "columns_to_plot = ['Wind', 'Play_Badminton']\n",
    "\n",
    "plot_categorical_relationships(df, columns_to_plot)"
   ]
  },
  {
   "cell_type": "markdown",
   "metadata": {},
   "source": [
    "> ### `The insights from plot are:`\n",
    ">\n",
    "> The column `WIND` seems to have a relationship with the badminton playing column, the plot shows that:\n",
    ">\n",
    "> 1. When it's `Strong` then there is `100%` chances of not playing bedminton and `0%` chances of playing bedminton.\n",
    "> 2. When It's `Weak` then there is `33.33%` chances of not plying bedminton and `66.67%` chances of playing bedminton.\n"
   ]
  },
  {
   "cell_type": "markdown",
   "metadata": {},
   "source": [
    "<div class=\"styled-heading\">\n",
    "        <h1>\n",
    "            🔍📚💡<span style=\"color: #ffffff;\">T</span><span style=\"color: #f9f9f9;\">a</span><span style=\"color: #ececec; font-weight: 900;\">s</span><span style=\"color: #dfdfdf;\">k</span>\n",
    "            <span style=\"color: #d2d2d2;\">4</span>: \n",
    "            <span style=\"color: #c5c5c5;\">A</span><span style=\"color: #b8b8b8;\">p</span><span style=\"color: #ababab;\">p</span><span style=\"color: #9e9e9e;\">l</span><span style=\"color: #919191;\">y</span><span style=\"color: #848484;\">i</span><span style=\"color: #777777;\">n</span><span style=\"color: #6a6a6a; font-weight: 900;\">g</span>\n",
    "            <span style=\"color: #5d5d5d;\">N</span><span style=\"color: #505050;\">a</span><span style=\"color: #434343;\">i</span><span style=\"color: #363636;\">v</span><span style=\"color: #292929;\">e</span><span style=\"color: #1c1c1c;\"> </span><span style=\"color: #0f0f0f;\">B</span><span style=\"color: #ffffff;\">a</span><span style=\"color: #f9f9f9;\">y</span><span style=\"color: #ececec; font-weight: 900;\">e</span><span style=\"color: #dfdfdf;\">s</span>\n",
    "            <span style=\"color: #d2d2d2;\">A</span><span style=\"color: #c5c5c5;\">l</span><span style=\"color: #b8b8b8;\">g</span><span style=\"color: #ababab;\">o</span><span style=\"color: #9e9e9e;\">r</span><span style=\"color: #919191;\">i</span><span style=\"color: #848484;\">t</span><span style=\"color: #777777;\">h</span><span style=\"color: #6a6a6a; font-weight: 900;\">m</span>🔍📚💡\n",
    "        </h1>\n",
    "    </div>\n"
   ]
  },
  {
   "cell_type": "markdown",
   "metadata": {},
   "source": [
    "### `1. Data Preparation for Naive Bayes`\n"
   ]
  },
  {
   "cell_type": "markdown",
   "metadata": {},
   "source": [
    "`Following steps will be followed for the Data Prearation for Naive Bayes phase:`\n",
    "\n",
    "1. If the dataset contains categorical variables, encode them to prepare for the Naive Bayes algorithm.\n",
    "\n",
    "2. Split the dataset into training and testing sets.\n"
   ]
  },
  {
   "cell_type": "markdown",
   "metadata": {},
   "source": [
    "### `1.1 Encoding the Categorical Columns for Naive Bayes Algorithm`\n"
   ]
  },
  {
   "cell_type": "code",
   "execution_count": 21,
   "metadata": {},
   "outputs": [
    {
     "data": {
      "text/plain": [
       "(36, 5)"
      ]
     },
     "execution_count": 21,
     "metadata": {},
     "output_type": "execute_result"
    }
   ],
   "source": [
    "df.shape"
   ]
  },
  {
   "cell_type": "markdown",
   "metadata": {},
   "source": [
    "> `Since the dataset all columns are categorical, so we can directly give the whole dataset in the parameter of get dummies functions, and there is no need to find and making a new list of columns that are only categorical`\n"
   ]
  },
  {
   "cell_type": "code",
   "execution_count": 22,
   "metadata": {},
   "outputs": [],
   "source": [
    "df_encoded = pd.get_dummies(df)"
   ]
  },
  {
   "cell_type": "code",
   "execution_count": 23,
   "metadata": {},
   "outputs": [
    {
     "data": {
      "text/plain": [
       "(36, 12)"
      ]
     },
     "execution_count": 23,
     "metadata": {},
     "output_type": "execute_result"
    }
   ],
   "source": [
    "df_encoded.shape"
   ]
  },
  {
   "cell_type": "markdown",
   "metadata": {},
   "source": [
    "> #### `The categorical Columns are encoded and the shape of the dataset has changed.`\n"
   ]
  },
  {
   "cell_type": "markdown",
   "metadata": {},
   "source": [
    "### `1.2 Spliting Dataset`\n"
   ]
  },
  {
   "cell_type": "code",
   "execution_count": 24,
   "metadata": {},
   "outputs": [],
   "source": [
    "from sklearn.model_selection import train_test_split\n",
    "\n",
    "X = df_encoded.iloc[:, :-1]\n",
    "y = df_encoded.iloc[:, -1]\n",
    "\n",
    "X_train, X_test, y_train, y_test = train_test_split(X, y, test_size=0.2, random_state=42)"
   ]
  },
  {
   "cell_type": "markdown",
   "metadata": {},
   "source": [
    "### `2. Model Implementation and Training`\n"
   ]
  },
  {
   "cell_type": "markdown",
   "metadata": {},
   "source": [
    "> 2.1 Implement the Naive Bayes algorithm using your preferred library (e.g., Scikit-learn in Python). Describe the type of Naive Bayes model you chose (e.g., Gaussian, Multinomial, Bernoulli) and why it is appropriate for your dataset.\n",
    ">\n",
    "> 2.2 Train the Naive Bayes model on the training data. Provide the code and describe the key steps.\n"
   ]
  },
  {
   "cell_type": "markdown",
   "metadata": {},
   "source": [
    "#### `2.1 Choosing the Naive bayes Algorithm:`\n"
   ]
  },
  {
   "cell_type": "markdown",
   "metadata": {},
   "source": [
    "The choice of which Naive Bayes algorithm is best for a dataset depends on several factors, including the nature of the dataset and the assumptions we're willing to make about the data.\n",
    "\n",
    "Since our dataset contains categorical features related to weather conditions and a binary target variable ('Play_Badminton'), we may consider using either Multinomial Naive Bayes or Bernoulli Naive Bayes.\n",
    "\n",
    "> However, since our features represent categories rather than word counts or frequencies (as in text classification), `Bernoulli Naive Bayes` may be more suitable for this dataset. It treats each feature as a binary variable indicating the presence or absence of a category (e.g., 'Sunny', 'Overcast', 'Rain' for 'Outlook'). Therefore, Bernoulli Naive Bayes may be the best choice for your dataset.\n"
   ]
  },
  {
   "cell_type": "markdown",
   "metadata": {},
   "source": [
    "#### `2.2 Train the Naive Bayes model on the training data. Provide the code and describe the key steps.`\n"
   ]
  },
  {
   "cell_type": "code",
   "execution_count": 25,
   "metadata": {},
   "outputs": [],
   "source": [
    "bnb_classifier = BernoulliNB()\n",
    "\n",
    "bnb_classifier.fit(X_train, y_train)\n",
    "\n",
    "y_pred = bnb_classifier.predict(X_test)\n"
   ]
  },
  {
   "cell_type": "markdown",
   "metadata": {},
   "source": [
    "<div class=\"styled-heading\">\n",
    "    <h1>\n",
    "        🔍📚💡<span style=\"color: #ffffff;\">3</span>: \n",
    "        <span style=\"color: #c5c5c5;\">M</span><span style=\"color: #b8b8b8;\">o</span><span style=\"color: #ababab;\">d</span><span style=\"color: #9e9e9e;\">e</span><span style=\"color: #919191;\">l</span>\n",
    "        <span style=\"color: #848484;\">E</span><span style=\"color: #777777;\">v</span><span style=\"color: #6a6a6a; font-weight: 900;\">a</span><span style=\"color: #5d5d5d;\">l</span><span style=\"color: #505050;\">u</span><span style=\"color: #434343;\">a</span><span style=\"color: #363636;\">t</span><span style=\"color: #292929;\">i</span><span style=\"color: #1c1c1c;\">o</span><span style=\"color: #0f0f0f;\">n</span>\n",
    "    </h1>\n",
    "</div>\n",
    "\n",
    "> 3.1 Evaluate the performance of the Naive Bayes model on the test set. Use appropriate metrics such as accuracy, precision, recall, F1 score, and confusion matrix. Interpret these metrics.\n"
   ]
  },
  {
   "cell_type": "code",
   "execution_count": 26,
   "metadata": {},
   "outputs": [
    {
     "name": "stdout",
     "output_type": "stream",
     "text": [
      "Accuracy: 1.0\n",
      "Precision: 1.0\n",
      "Recall: 1.0\n",
      "F1 Score: 1.0\n",
      "Confusion Matrix:\n",
      "[[5 0]\n",
      " [0 3]]\n"
     ]
    }
   ],
   "source": [
    "\n",
    "\n",
    "# Calculate accuracy\n",
    "accuracy = accuracy_score(y_test, y_pred)\n",
    "print(\"Accuracy:\", accuracy)\n",
    "\n",
    "# Calculate precision\n",
    "precision = precision_score(y_test, y_pred)\n",
    "print(\"Precision:\", precision)\n",
    "\n",
    "# Calculate recall\n",
    "recall = recall_score(y_test, y_pred)\n",
    "print(\"Recall:\", recall)\n",
    "\n",
    "# Calculate F1 score\n",
    "f1 = f1_score(y_test, y_pred)\n",
    "print(\"F1 Score:\", f1)\n",
    "\n",
    "# Calculate confusion matrix\n",
    "conf_matrix = confusion_matrix(y_test, y_pred)\n",
    "print(\"Confusion Matrix:\")\n",
    "print(conf_matrix)\n"
   ]
  },
  {
   "cell_type": "markdown",
   "metadata": {},
   "source": [
    "## `Printing the confusion metrics`"
   ]
  },
  {
   "cell_type": "code",
   "execution_count": 27,
   "metadata": {},
   "outputs": [
    {
     "data": {
      "image/png": "[encoded data removed]",
      "text/plain": [
       "<Figure size 600x400 with 2 Axes>"
      ]
     },
     "metadata": {},
     "output_type": "display_data"
    }
   ],
   "source": [
    "plt.figure(figsize=(6, 4))\n",
    "sns.heatmap(conf_matrix, annot=True, cmap=\"Blues\", fmt=\"d\",\n",
    "            xticklabels=['Predicted 0', 'Predicted 1'], yticklabels=['Actual 0', 'Actual 1'])\n",
    "plt.xlabel('Predicted Label')\n",
    "plt.ylabel('True Label')\n",
    "plt.title('Confusion Matrix')\n",
    "plt.show()"
   ]
  },
  {
   "cell_type": "markdown",
   "metadata": {},
   "source": [
    "### Interpretations of the Metrics:\n",
    "\n",
    "The evaluation metrics for the model are exceptional, with all metrics (accuracy, precision, recall, and F1 score) achieving perfect scores of 1.0. This indicates that the model has successfully classified all instances in the test set without any errors.\n",
    "\n",
    "The confusion matrix further confirms this outstanding performance, showing that there are no misclassifications. Specifically, there are 5 instances correctly classified as negative (True Negatives) and 3 instances correctly classified as positive (True Positives), with no false positives or false negatives.\n",
    "\n",
    "> In summary, the model demonstrates flawless performance on the test data, achieving perfect accuracy, precision, recall, and F1 score. This suggests that the model has learned the underlying patterns in the data extremely well and can make highly accurate predictions across both positive and negative classes.\n"
   ]
  },
  {
   "cell_type": "markdown",
   "metadata": {},
   "source": [
    "<div class=\"styled-heading\">\n",
    "    <h1>\n",
    "        🔍📚💡<span style=\"color: #ffffff;\">T</span><span style=\"color: #f9f9f9;\">a</span><span style=\"color: #ececec; font-weight: 900;\">s</span><span style=\"color: #dfdfdf;\">k</span>\n",
    "        <span style=\"color: #c5c5c5;\">3</span>: \n",
    "        <span style=\"color: #c5c5c5;\">B</span><span style=\"color: #b8b8b8;\">o</span><span style=\"color: #ababab;\">n</span><span style=\"color: #9e9e9e;\">u</span><span style=\"color: #919191;\">s</span>\n",
    "        <span style=\"color: #848484;\">Q</span><span style=\"color: #777777;\">u</span><span style=\"color: #6a6a6a; font-weight: 900;\">e</span><span style=\"color: #5d5d5d;\">s</span><span style=\"color: #505050;\">t</span><span style=\"color: #434343;\">i</span><span style=\"color: #363636;\">o</span><span style=\"color: #292929;\">n</span><span style=\"color: #1c1c1c;\">s</span>\n",
    "        <span style=\"color: #0f0f0f;\">(</span><span style=\"color: #ffffff;\">O</span><span style=\"color: #f9f9f9;\">p</span><span style=\"color: #ececec; font-weight: 900;\">t</span><span style=\"color: #dfdfdf;\">i</span><span style=\"color: #d2d2d2;\">o</span><span style=\"color: #c5c5c5;\">n</span><span style=\"color: #b8b8b8;\">a</span><span style=\"color: #ababab;\">l</span><span style=\"color: #9e9e9e;\">)</span>\n",
    "        🔍📚💡\n",
    "    </h1>\n",
    "</div>\n",
    "\n",
    "Experiment with different preprocessing techniques (e.g., scaling, normalization) and observe their impact on the model’s performance. Report your findings.\n"
   ]
  },
  {
   "cell_type": "markdown",
   "metadata": {},
   "source": [
    "### `Answer:`\n",
    "\n",
    "> #### `BernoulliNB typically works with binary data, so scaling might not be necessary.`\n",
    "## `But still here they are:`\n"
   ]
  },
  {
   "cell_type": "markdown",
   "metadata": {},
   "source": [
    "### 1. Scaling:\n",
    "\n",
    "Scaling involves transforming the features so that they all fall within a specific range, often between 0 and 1 or -1 and 1. This can be achieved using Min-Max scaling or Standardization.\n"
   ]
  },
  {
   "cell_type": "markdown",
   "metadata": {},
   "source": [
    "#### `Min-Max Scaling: Scales the features to a specified range, typically between 0 and 1.`\n"
   ]
  },
  {
   "cell_type": "code",
   "execution_count": 28,
   "metadata": {},
   "outputs": [],
   "source": [
    "scaler = MinMaxScaler()\n",
    "\n",
    "X_scaled = scaler.fit_transform(X)\n"
   ]
  },
  {
   "cell_type": "markdown",
   "metadata": {},
   "source": [
    "#### `Standardization: Scales the features to have a mean of 0 and a standard deviation of 1.`\n"
   ]
  },
  {
   "cell_type": "code",
   "execution_count": 29,
   "metadata": {},
   "outputs": [],
   "source": [
    "scaler = StandardScaler()\n",
    "\n",
    "X_scaled = scaler.fit_transform(X)\n"
   ]
  },
  {
   "cell_type": "markdown",
   "metadata": {},
   "source": [
    "### 2. Normalization:\n",
    "\n",
    "> Normalization adjusts the values of each feature so that they have a mean of 0 and a standard deviation of 1. This is particularly useful when features have different units or scales.\n"
   ]
  },
  {
   "cell_type": "code",
   "execution_count": 30,
   "metadata": {},
   "outputs": [],
   "source": [
    "normalizer = Normalizer()\n",
    "\n",
    "X_normalized = normalizer.fit_transform(X)\n"
   ]
  }
 ],
 "metadata": {
  "kernelspec": {
   "display_name": "Python 3 (ipykernel)",
   "language": "python",
   "name": "python3"
  },
  "language_info": {
   "codemirror_mode": {
    "name": "ipython",
    "version": 3
   },
   "file_extension": ".py",
   "mimetype": "text/x-python",
   "name": "python",
   "nbconvert_exporter": "python",
   "pygments_lexer": "ipython3",
   "version": "3.11.5"
  }
 },
 "nbformat": 4,
 "nbformat_minor": 2
}
